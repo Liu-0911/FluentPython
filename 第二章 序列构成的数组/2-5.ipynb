{
 "cells": [
  {
   "cell_type": "markdown",
   "source": [
    "# 2.5　对序列使用+和*\n",
    "如果在 a * n 这个语句中，序列 a 里的元素是对其他可变对象的引用的话，你就需要格外注意了，因为这个式子的结果可能会出乎意料。\n",
    "比如，你想用my_list = [[]] * 3 来初始化一个由列表组成的列表，但是你得到的列表里包含的 3 个元素其实是 3 个引用，而且这 3 个引用指向的都是同一个列表。\n",
    "这可能不是你想要的效果。\n",
    "\n",
    "有时我们会需要初始化一个嵌套着几个列表的列表，譬如一个列表可能需要用来存放不同的学生名单，或者是一个井字游戏板 3 上的一行方块。\n",
    "想要达成这些目的，最好的选择是使用列表推导，见示例 2-12。\n",
    "#### 示例 2-12 一个包含 3 个列表的列表，嵌套的 3 个列表各自有 3 个元素来代表井字游戏的一行方块"
   ],
   "metadata": {
    "collapsed": false
   }
  },
  {
   "cell_type": "code",
   "execution_count": 13,
   "outputs": [
    {
     "data": {
      "text/plain": "[['_', '_', '_'], ['_', '_', '_'], ['_', '_', '_']]"
     },
     "execution_count": 13,
     "metadata": {},
     "output_type": "execute_result"
    }
   ],
   "source": [
    "board = [['_'] * 3 for i in range(3)]\n",
    "board"
   ],
   "metadata": {
    "collapsed": false
   }
  },
  {
   "cell_type": "code",
   "execution_count": 14,
   "outputs": [
    {
     "data": {
      "text/plain": "[['_', '_', '_'], ['_', '_', 'X'], ['_', '_', '_']]"
     },
     "execution_count": 14,
     "metadata": {},
     "output_type": "execute_result"
    }
   ],
   "source": [
    "board[1][2] = 'X'\n",
    "board"
   ],
   "metadata": {
    "collapsed": false
   }
  },
  {
   "cell_type": "markdown",
   "source": [
    "示例 2-13 展示了另一个方法，这个方法看上去是个诱人的捷径，但实际上它是错的。\n",
    "#### 示例 2-13 含有 3 个指向同一对象的引用的列表是毫无用处的"
   ],
   "metadata": {
    "collapsed": false
   }
  },
  {
   "cell_type": "code",
   "execution_count": 10,
   "outputs": [
    {
     "data": {
      "text/plain": "[['_', '_', '_'], ['_', '_', '_'], ['_', '_', '_']]"
     },
     "execution_count": 10,
     "metadata": {},
     "output_type": "execute_result"
    }
   ],
   "source": [
    "a = [[\"_\"] * 3] * 3\n",
    "a"
   ],
   "metadata": {
    "collapsed": false
   }
  },
  {
   "cell_type": "code",
   "execution_count": 12,
   "outputs": [
    {
     "data": {
      "text/plain": "[['_', '1', '_'], ['_', '1', '_'], ['_', '1', '_']]"
     },
     "execution_count": 12,
     "metadata": {},
     "output_type": "execute_result"
    }
   ],
   "source": [
    "a[1][1] = '1'\n",
    "a"
   ],
   "metadata": {
    "collapsed": false
   }
  },
  {
   "cell_type": "markdown",
   "source": [
    "外面的列表其实包含 3 个指向同一个列表的引用。当我们不做修改的时候，看起来都还好。\n",
    "一旦我们试图标记第 1 行第 2 列的元素，就立马暴露了列表内的 3 个引用指向同一个对象的事实。\n",
    "示例 2-13 犯的错误本质上跟下面的代码犯的错误一样:"
   ],
   "metadata": {
    "collapsed": false
   }
  },
  {
   "cell_type": "code",
   "execution_count": 15,
   "outputs": [],
   "source": [
    "row=['_'] * 3\n",
    "board = []\n",
    "for i in range(3):\n",
    "    board.append(row)"
   ],
   "metadata": {
    "collapsed": false
   }
  },
  {
   "cell_type": "markdown",
   "source": [
    "追加同一个行对象（row）3 次到游戏板（board）。\n",
    "相反，示例 2-12 中的方法等同于这样做:"
   ],
   "metadata": {
    "collapsed": false
   }
  },
  {
   "cell_type": "code",
   "execution_count": 17,
   "outputs": [
    {
     "data": {
      "text/plain": "[['_', '_', '_'], ['_', '_', '_'], ['_', '_', '_']]"
     },
     "execution_count": 17,
     "metadata": {},
     "output_type": "execute_result"
    }
   ],
   "source": [
    "board = []\n",
    "for i in range(3):\n",
    "    row=['_'] * 3\n",
    "    board.append(row)\n",
    "board"
   ],
   "metadata": {
    "collapsed": false
   }
  },
  {
   "cell_type": "code",
   "execution_count": 18,
   "outputs": [
    {
     "data": {
      "text/plain": "[['_', '_', '_'], ['_', '_', '_'], ['X', '_', '_']]"
     },
     "execution_count": 18,
     "metadata": {},
     "output_type": "execute_result"
    }
   ],
   "source": [
    "board[2][0] = 'X'\n",
    "board"
   ],
   "metadata": {
    "collapsed": false
   }
  },
  {
   "cell_type": "code",
   "execution_count": null,
   "outputs": [],
   "source": [],
   "metadata": {
    "collapsed": false
   }
  }
 ],
 "metadata": {
  "kernelspec": {
   "display_name": "Python 3",
   "language": "python",
   "name": "python3"
  },
  "language_info": {
   "codemirror_mode": {
    "name": "ipython",
    "version": 2
   },
   "file_extension": ".py",
   "mimetype": "text/x-python",
   "name": "python",
   "nbconvert_exporter": "python",
   "pygments_lexer": "ipython2",
   "version": "2.7.6"
  }
 },
 "nbformat": 4,
 "nbformat_minor": 0
}
